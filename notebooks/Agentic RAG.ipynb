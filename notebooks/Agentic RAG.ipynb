{
 "cells": [
  {
   "cell_type": "markdown",
   "id": "54028c87",
   "metadata": {},
   "source": [
    "# Load the environment variables"
   ]
  },
  {
   "cell_type": "code",
   "execution_count": null,
   "id": "c9127444",
   "metadata": {},
   "outputs": [],
   "source": [
    "# 0. Load the environment variables\n",
    "import locale\n",
    "locale.getpreferredencoding = lambda: \"UTF-8\"\n",
    "\n",
    "import os\n",
    "import yaml\n",
    "\n",
    "with open(r\"gemini_key_gtm.yaml\", 'r') as file:\n",
    "    api_creds = yaml.safe_load(file)\n",
    "os.environ[\"GOOGLE_API_KEY\"] = api_creds['gemini_key']\n",
    "\n",
    "with open(r\"tavily_key.yaml\", 'r') as file:\n",
    "    api_creds = yaml.safe_load(file)\n",
    "os.environ[\"TAVILY_API_KEY\"] = api_creds['tavily_key']"
   ]
  },
  {
   "cell_type": "markdown",
   "id": "f2e30ac8",
   "metadata": {},
   "source": [
    "# Import Required Libraries"
   ]
  },
  {
   "cell_type": "code",
   "execution_count": 2,
   "metadata": {},
   "outputs": [],
   "source": [
    "# 1. Import Required Libraries\n",
    "\n",
    "from langchain_google_genai import ChatGoogleGenerativeAI\n",
    "from langchain.embeddings import HuggingFaceEmbeddings\n",
    "from langchain_chroma import Chroma\n",
    "from langchain_community.tools.tavily_search import TavilySearchResults\n",
    "from langchain_core.prompts import ChatPromptTemplate\n",
    "from langchain_core.output_parsers import StrOutputParser, JsonOutputParser\n",
    "from langchain.schema import Document\n",
    "from langgraph.graph import StateGraph, END\n",
    "from langchain_core.runnables import RunnableLambda\n",
    "from IPython.display import Image, display, Markdown\n",
    "from typing import List\n",
    "from typing_extensions import TypedDict\n",
    "import os\n",
    "import json\n",
    "from pylatexenc.latex2text import LatexNodes2Text\n",
    "import re\n",
    "from pathlib import Path\n",
    "from datetime import datetime\n",
    "\n",
    "import warnings\n",
    "warnings.filterwarnings(\"ignore\")"
   ]
  },
  {
   "cell_type": "markdown",
   "id": "bfff49c2",
   "metadata": {},
   "source": [
    "# Read the JSON files from the dataset"
   ]
  },
  {
   "cell_type": "code",
   "execution_count": null,
   "id": "96e0dc72",
   "metadata": {},
   "outputs": [
    {
     "name": "stdout",
     "output_type": "stream",
     "text": [
      "Loaded 12500 documents.\n"
     ]
    }
   ],
   "source": [
    "# 2. Read the JSON files from the dataset\n",
    "\n",
    "# LaTeX Cleaning Functions\n",
    "def clean_latex(latex_str):\n",
    "    latex_str = latex_str.replace('\\\\\\\\', '\\\\')\n",
    "    latex_str = re.sub(r\"\\\\\\[|\\\\\\]\", \"\", latex_str)\n",
    "    latex_str = re.sub(r\"\\$+\", \"\", latex_str)\n",
    "    return latex_str\n",
    "\n",
    "def latex_to_text(latex_str):\n",
    "    cleaned = clean_latex(latex_str)\n",
    "    return LatexNodes2Text().latex_to_text(cleaned)\n",
    "\n",
    "# Dataset Loader with Cleaning\n",
    "def load_math_dataset(base_path):\n",
    "    \"\"\"\n",
    "    Loads JSON files from topic folders, cleans LaTeX, and returns LangChain Documents.\n",
    "    \"\"\"\n",
    "    documents = []\n",
    "\n",
    "    for topic_folder in os.listdir(base_path):\n",
    "        topic_path = os.path.join(base_path, topic_folder)\n",
    "        \n",
    "        if not os.path.isdir(topic_path):\n",
    "            continue\n",
    "\n",
    "        for file_name in os.listdir(topic_path):\n",
    "            if file_name.endswith(\".json\"):\n",
    "                file_path = os.path.join(topic_path, file_name)\n",
    "\n",
    "                try:\n",
    "                    with open(file_path, 'r', encoding='utf-8') as f:\n",
    "                        data = json.load(f)\n",
    "\n",
    "                    # Extract and clean problem and solution text\n",
    "                    problem = data.get(\"problem\", \"\")\n",
    "                    solution = data.get(\"solution\", \"\")\n",
    "                    level = data.get(\"level\", \"\")\n",
    "                    qtype = data.get(\"type\", \"\")\n",
    "\n",
    "                    clean_problem = latex_to_text(problem.strip())\n",
    "                    clean_solution = latex_to_text(solution.strip())\n",
    "\n",
    "                    content = f\"Problem:\\n{clean_problem}\\n\\nSolution:\\n{clean_solution}\"\n",
    "                    metadata = {\n",
    "                        \"level\": level,\n",
    "                        \"type\": qtype\n",
    "                    }\n",
    "\n",
    "                    documents.append(Document(page_content=content, metadata=metadata))\n",
    "\n",
    "                except Exception as e:\n",
    "                    print(f\"Error reading {file_path}: {e}\")\n",
    "\n",
    "    print(f\"Loaded {len(documents)} documents.\")\n",
    "    return documents\n",
    "\n",
    "# Load the dataset from the specified path\n",
    "dataset_path = r\"data\\MATH\"\n",
    "all_documents = load_math_dataset(dataset_path)"
   ]
  },
  {
   "cell_type": "markdown",
   "id": "610ba307",
   "metadata": {},
   "source": [
    "# Initialize LLM and Embedding Model"
   ]
  },
  {
   "cell_type": "code",
   "execution_count": 4,
   "id": "22e439f8",
   "metadata": {},
   "outputs": [],
   "source": [
    "# 3. Initialize LLM and Embedding Model\n",
    "llm = ChatGoogleGenerativeAI(\n",
    "    model=\"gemini-2.0-flash\",\n",
    "    temperature=0\n",
    ")\n",
    "\n",
    "embedding_model = HuggingFaceEmbeddings(\n",
    "    model_name=\"BAAI/bge-small-en-v1.5\",\n",
    "    model_kwargs={\"device\": \"cpu\"},\n",
    "    encode_kwargs={\"normalize_embeddings\": True}\n",
    ")"
   ]
  },
  {
   "cell_type": "markdown",
   "id": "82d02cfa",
   "metadata": {},
   "source": [
    "# Create or Load Chroma Index"
   ]
  },
  {
   "cell_type": "code",
   "execution_count": 5,
   "id": "95e3414a",
   "metadata": {},
   "outputs": [
    {
     "name": "stdout",
     "output_type": "stream",
     "text": [
      "Chroma index loaded from disk.\n"
     ]
    }
   ],
   "source": [
    "# 4. Create or Load Chroma Index\n",
    "\n",
    "if os.path.exists(\"./math_db\"):\n",
    "    chroma_db = Chroma(\n",
    "    embedding_function=embedding_model,\n",
    "    persist_directory=\"./math_db\",\n",
    "    collection_name=\"math_database\"\n",
    "    )\n",
    "    print(\"Chroma index loaded from disk.\")\n",
    "else:\n",
    "    chroma_db = Chroma.from_documents(\n",
    "    all_documents,\n",
    "    embedding=embedding_model,\n",
    "    persist_directory=\"./math_db\",\n",
    "    collection_name=\"math_database\"\n",
    "    )\n",
    "    print(\"Chroma Index Created and Saved to Disk.\")"
   ]
  },
  {
   "cell_type": "markdown",
   "id": "f9ac443a",
   "metadata": {},
   "source": [
    "# Retriever with Similarity Threshold"
   ]
  },
  {
   "cell_type": "code",
   "execution_count": 6,
   "id": "0f188428",
   "metadata": {},
   "outputs": [
    {
     "name": "stdout",
     "output_type": "stream",
     "text": [
      "\n",
      "📚 Retrieved Documents:\n",
      "Problem:\n",
      "How many distinct, positive factors does 1100 have?\n",
      "\n",
      "Solution:\n",
      "The prime factorization of 1100 is 2^2·5^2·11. To find the number of factors, we consider that each factor has a prime factorization of 2^a·5^b·11^c, where a could be from 0 to 2 (3 possible values), b could be from 0 to 2 (3 possible values), and c could be 0 or 1 (2 possible values). So the number of factors is 3·3·2=18.\n",
      "--------------------------------------------------------\n"
     ]
    }
   ],
   "source": [
    "# 5. Retriever with Similarity Threshold\n",
    "\n",
    "retriever = chroma_db.as_retriever(\n",
    "    search_type=\"similarity_score_threshold\",\n",
    "    search_kwargs={\n",
    "        \"k\": 3,\n",
    "        \"score_threshold\": 0.8 \n",
    "    }\n",
    ")\n",
    "\n",
    "query = \"\"\"How many distinct, positive factors does $1100$ have\"\"\"\n",
    "results = retriever.get_relevant_documents(query)\n",
    "\n",
    "print(\"\\n📚 Retrieved Documents:\")\n",
    "for doc in results:\n",
    "    print(doc.page_content)\n",
    "    print(\"--------------------------------------------------------\")"
   ]
  },
  {
   "cell_type": "markdown",
   "id": "1ca72a99",
   "metadata": {},
   "source": [
    "# Graph State"
   ]
  },
  {
   "cell_type": "code",
   "execution_count": 7,
   "id": "28b5fe16",
   "metadata": {},
   "outputs": [],
   "source": [
    "# 6. Graph State\n",
    "class GraphState(TypedDict):\n",
    "    question: str\n",
    "    raw_solution: str\n",
    "    previous_solution: str\n",
    "    generation: str\n",
    "    documents: List[Document]\n",
    "    web_search_needed: str\n",
    "    web_search_sufficient: str\n",
    "    web_results: str\n",
    "    human_feedback: str\n",
    "    should_end: bool"
   ]
  },
  {
   "cell_type": "markdown",
   "id": "725bf538",
   "metadata": {},
   "source": [
    "# Input Guardrails"
   ]
  },
  {
   "cell_type": "code",
   "execution_count": 8,
   "id": "0d976982",
   "metadata": {},
   "outputs": [],
   "source": [
    "# 7. Input Guardrails\n",
    "# This guardrail checks if the question is math-related.\n",
    "# If not, it returns a message indicating that only math questions are allowed.\n",
    "\n",
    "input_guard_prompt = ChatPromptTemplate.from_messages([\n",
    "    (\"system\", \"\"\"You are a mathematics teaching assistant. Only answer questions related to mathematics. \n",
    "    If not a math query, say: 'I'm sorry, I can only help with math questions.'\"\"\"),\n",
    "    (\"human\", \"{question}\")\n",
    "])\n",
    "\n",
    "input_guard_chain = input_guard_prompt | llm | StrOutputParser()\n",
    "\n",
    "def input_guardrails(state):\n",
    "    print(\"🧠 Running Input Guardrails: Checking if the question is math-related...\")\n",
    "    question = state[\"question\"]\n",
    "    response = input_guard_chain.invoke({\"question\": question})\n",
    "    \n",
    "    # If it's not math-related\n",
    "    if \"I'm sorry, I can only help with math questions.\" in response:\n",
    "        #return {**state, \"generation\": response, \"documents\": []}\n",
    "        return {**state, \"generation\": response, \"should_end\": True}\n",
    "    \n",
    "    # Otherwise continue with an empty generation\n",
    "    return {**state, \"generation\": \"\"}"
   ]
  },
  {
   "cell_type": "markdown",
   "id": "1e9b86c2",
   "metadata": {},
   "source": [
    "# Retrieve Documents"
   ]
  },
  {
   "cell_type": "code",
   "execution_count": 9,
   "id": "7e6a8427",
   "metadata": {},
   "outputs": [],
   "source": [
    "# 8. Retrieve Documents\n",
    "\n",
    "def retrieve(state):\n",
    "    print(\"📥 Retrieving from Knowledge Base...\")\n",
    "    question = state[\"question\"]\n",
    "    if state.get(\"generation\") and \"I'm sorry\" in state[\"generation\"]:\n",
    "        return state\n",
    "    docs = retriever.get_relevant_documents(question)\n",
    "    return {**state, \"documents\": docs}"
   ]
  },
  {
   "cell_type": "markdown",
   "id": "14115102",
   "metadata": {},
   "source": [
    "# Document Grader"
   ]
  },
  {
   "cell_type": "code",
   "execution_count": null,
   "id": "02efc972",
   "metadata": {},
   "outputs": [],
   "source": [
    "# 9. Document Grader\n",
    "grader_prompt = ChatPromptTemplate.from_template(\"\"\"\n",
    "You are a document relevance grader.\n",
    "\n",
    "Question:\n",
    "{question}\n",
    "\n",
    "Documents:\n",
    "{documents}\n",
    "\n",
    "Your task is to:\n",
    "1. Identify which documents are relevant to the question.\n",
    "2. Determine if at least one of the relevant documents is sufficient to answer the question.\n",
    "3. Output a JSON with:\n",
    "- \"relevant_documents\": [list of indices of relevant docs],\n",
    "- \"is_sufficient\": true/false\n",
    "\n",
    "Return your output as JSON only.\n",
    "\"\"\")\n",
    "\n",
    "eval_llm = ChatGoogleGenerativeAI(\n",
    "    model=\"gemini-1.5-pro\",\n",
    "    temperature=0\n",
    ")\n",
    "\n",
    "parser = JsonOutputParser()\n",
    "\n",
    "def grade_documents(inputs):\n",
    "    question = inputs[\"question\"]\n",
    "    documents = [doc.page_content for doc in inputs[\"documents\"]]\n",
    "    return {\"question\": question, \"documents\": documents}\n",
    "document_grader_chain = RunnableLambda(grade_documents) | grader_prompt | eval_llm | parser\n",
    "\n",
    "def document_grader(state):\n",
    "    if not state[\"documents\"]:\n",
    "        return {**state, \"web_search_needed\": \"Yes\"}\n",
    "    result = document_grader_chain.invoke({\"question\": state[\"question\"], \"documents\": state[\"documents\"]})\n",
    "    relevant_indices = result.get(\"relevant_documents\", [])\n",
    "    is_sufficient = result.get(\"is_sufficient\", False)\n",
    "    relevant_docs = [state[\"documents\"][i] for i in relevant_indices]\n",
    "    print(f\"🗂️ Document Grader Result: {len(relevant_docs)} relevant docs found. ✅ Sufficient: {is_sufficient}\")\n",
    "    return {\n",
    "        **state,\n",
    "        \"documents\": relevant_docs,\n",
    "        \"web_search_needed\": \"No\" if is_sufficient else \"Yes\"\n",
    "    }"
   ]
  },
  {
   "cell_type": "markdown",
   "id": "647f5866",
   "metadata": {},
   "source": [
    "# Web Search Tool"
   ]
  },
  {
   "cell_type": "code",
   "execution_count": 11,
   "id": "caedc0c8",
   "metadata": {},
   "outputs": [],
   "source": [
    "# 10. Web Search Tool\n",
    "\n",
    "web_search_tool = TavilySearchResults(max_results=3, search_depth='advanced', max_tokens=10000)\n",
    "\n",
    "def web_search(state):\n",
    "    if state.get(\"web_search_needed\") == \"Yes\":\n",
    "        print(\"🌐 No sufficient documents. Performing Web Search...\")\n",
    "        \n",
    "        # Perform web search\n",
    "        results = web_search_tool.invoke({\"query\": state[\"question\"]})\n",
    "        \n",
    "        # Check if results are empty\n",
    "        if not results:\n",
    "            return {**state, \"web_results\": \"\", \"web_search_sufficient\": \"No\"}\n",
    "        \n",
    "        # Combine contents of the search results\n",
    "        web_context = \"\\n\\n\".join(r[\"content\"] for r in results)\n",
    "        \n",
    "        # Add this web search assessment step\n",
    "        return {**state, \"web_results\": web_context, \"web_search_sufficient\": \"Unknown\"}\n",
    "    \n",
    "    return {**state, \"web_results\": \"\", \"web_search_sufficient\": \"NotNeeded\"}\n"
   ]
  },
  {
   "cell_type": "markdown",
   "id": "cc89983d",
   "metadata": {},
   "source": [
    "# Web Results Assessment"
   ]
  },
  {
   "cell_type": "code",
   "execution_count": null,
   "id": "8e4b0a2c",
   "metadata": {},
   "outputs": [],
   "source": [
    "# 11. Web Results Assessment\n",
    "\n",
    "def assess_web_results(state):\n",
    "    # Skip if web search wasn't needed\n",
    "    if state[\"web_search_sufficient\"] == \"NotNeeded\":\n",
    "        return state\n",
    "    \n",
    "    # Skip if web results are already known to be insufficient\n",
    "    if state[\"web_search_sufficient\"] == \"No\":\n",
    "        return {**state, \"generation\": \"❌ Sorry, I couldn't find any reliable information online to answer your question.\"}\n",
    "    \n",
    "    # Define the assessment prompt\n",
    "    assess_prompt = ChatPromptTemplate.from_messages([\n",
    "        (\"system\", \n",
    "         \"You are a mathematics expert evaluating whether web search results contain sufficient information to solve a math problem.\"\n",
    "         \"Your task is to determine if the provided web content has relevant mathematical information to answer the question.\"\n",
    "         \"Return ONLY 'Yes' if the content is sufficient, or 'No' if it lacks necessary information.\"),\n",
    "        (\"human\", \n",
    "         \"Question: {question}\\n\\nWeb Content:\\n{web_results}\")\n",
    "    ])\n",
    "    \n",
    "    assessment_chain = assess_prompt | eval_llm | StrOutputParser()\n",
    "    result = assessment_chain.invoke({\n",
    "        \"question\": state[\"question\"],\n",
    "        \"web_results\": state[\"web_results\"]\n",
    "    })\n",
    "    \n",
    "    print(f\"🔍 Web Results Assessment: {result}\")\n",
    "    \n",
    "    if \"No\" in result:\n",
    "        # return {**state, \n",
    "        #         \"web_search_sufficient\": \"No\", \n",
    "        #         \"generation\": \"Sorry, I couldn't find any reliable information online to answer your question.\"}\n",
    "        return {**state, \n",
    "                \"web_search_sufficient\": \"No\", \n",
    "                \"generation\": \"❌ Sorry, I couldn't find any reliable information online to answer your question.\",\n",
    "                \"should_end\": True}\n",
    "    \n",
    "    return {**state, \"web_search_sufficient\": \"Yes\", \"should_end\": False}"
   ]
  },
  {
   "cell_type": "markdown",
   "id": "1383a18c",
   "metadata": {},
   "source": [
    "# Final Generation"
   ]
  },
  {
   "cell_type": "code",
   "execution_count": 13,
   "id": "a790c5ae",
   "metadata": {},
   "outputs": [],
   "source": [
    "# 12. Final Generation\n",
    "\n",
    "def generate(state):\n",
    "    # If we already have a solution, do nothing\n",
    "    if state.get(\"raw_solution\") and not state.get(\"human_feedback\"):\n",
    "            return state\n",
    "\n",
    "    # Build context from KB docs + web results\n",
    "    docs = \"\\n\\n\".join(doc.page_content for doc in state.get(\"documents\", []))\n",
    "    web = state.get(\"web_results\", \"\")\n",
    "    feedback = state.get(\"human_feedback\", \"\")\n",
    "    prev_solution = state.get(\"raw_solution\", \"\")\n",
    "\n",
    "    context = docs + \"\\n\\n\" + web\n",
    "\n",
    "    # Create and invoke the chain\n",
    "    prompt = ChatPromptTemplate.from_messages([\n",
    "        (\"system\", \n",
    "        \"You are a expert mathematics professor helping students understand the math problems clearly.\\n\\n\"\n",
    "        \"Your task is to:\\n\"\n",
    "        \"1. Understand the math question.\\n\"\n",
    "        \"2. Use the provided context to identify key formulas, definitions, or values.\\n\"\n",
    "        \"3. Solve the question step-by-step using clear reasoning and intermediate steps.\\n\"\n",
    "        \"4. Show all formulas and substitutions, and explain your logic.\\n\"\n",
    "        \"5. End with a final boxed answer like: \\\\boxed{{your_final_answer}}.\\n\"\n",
    "        \"6. If human feedback and previous answer are provided, follow the human feedback carefully to improve or correct your previous answer.\\n\\n\"\n",
    "        \"Note: Do not skip steps, and ensure clarity for students learning maths.\"),\n",
    "        \n",
    "        (\"human\", \n",
    "        \"\"\"Previous Response:\\n{previous_answer_block}\\n\\n\n",
    "        Human Feedback:\\n{feedback_block}\\n\\n\n",
    "        Context:\\n{context}\\n\\n\n",
    "        Question:\\n{question}\"\"\")\n",
    "    ])\n",
    "\n",
    "    # Add feedback & previous answer if any\n",
    "    feedback_block = f\"Human Feedback: {feedback}\" if feedback else \"\"\n",
    "    previous_answer_block = f\"Previous Answer:\\n{prev_solution}\\n\\n\" if prev_solution else \"\"\n",
    "\n",
    "    chain = prompt | llm | StrOutputParser()\n",
    "    raw = chain.invoke({\"context\": context, \"question\": state[\"question\"], \n",
    "                        \"feedback_block\": feedback_block, \n",
    "                        \"previous_answer_block\": previous_answer_block})\n",
    "\n",
    "    # Store the raw solution separately, leave generation empty for now\n",
    "    return {**state, \"previous_solution\": prev_solution, \"raw_solution\": raw, \"generation\": \"\", \"human_feedback\": \"\"}\n"
   ]
  },
  {
   "cell_type": "markdown",
   "id": "185dd45c",
   "metadata": {},
   "source": [
    "# Output Guardrails"
   ]
  },
  {
   "cell_type": "code",
   "execution_count": 14,
   "id": "f8a302d3",
   "metadata": {},
   "outputs": [],
   "source": [
    "# 13. Output Guardrails\n",
    "# This is the final check to ensure the solution is correct and complete.\n",
    "\n",
    "def output_guardrails(state):\n",
    "    raw = state.get(\"raw_solution\", \"\")\n",
    "    if not raw:\n",
    "        return state\n",
    "\n",
    "    check_prompt = ChatPromptTemplate.from_messages([\n",
    "        (\"system\", \n",
    "        \"You are a mathematics expert responsible for validating the accuracy and completeness of step-by-step solutions.\\n\\n\"\n",
    "        \"Given a math question and a proposed solution:\\n\"\n",
    "        \"1. If the solution is entirely correct, includes all necessary steps, and clearly explains the reasoning, return the solution exactly as-is.\\n\"\n",
    "        \"2. If the solution is incorrect, missing key steps, or lacks clear logic, rewrite it completely with detailed, correct, step-by-step reasoning.\\n\\n\"\n",
    "        \"Do not include any additional commentary or notes. Return only the corrected (or confirmed) solution.\"),\n",
    "        \n",
    "        (\"human\", \n",
    "        \"Question:\\n{question}\\n\\nProposed Solution:\\n{raw_solution}\")\n",
    "    ])\n",
    "\n",
    "    chain = check_prompt | eval_llm | StrOutputParser()\n",
    "    validated = chain.invoke({\n",
    "        \"question\": state[\"question\"],\n",
    "        \"raw_solution\": raw\n",
    "    })\n",
    "\n",
    "    # Place the final solution into 'generation'\n",
    "    return {**state, \"generation\": validated}\n"
   ]
  },
  {
   "cell_type": "markdown",
   "id": "dec12822",
   "metadata": {},
   "source": [
    "# Human-in-the-Loop Feedback Function"
   ]
  },
  {
   "cell_type": "code",
   "execution_count": 15,
   "id": "18dd9286",
   "metadata": {},
   "outputs": [],
   "source": [
    "# 14. Human-in-the-Loop Feedback Function\n",
    "# Function to save feedback to disk\n",
    "\n",
    "def save_feedback(question, solution, feedback, rating=None):\n",
    "    feedback_file = Path(\"./feedback_data/feedback_log.json\")\n",
    "    feedback_file.parent.mkdir(exist_ok=True, parents=True)\n",
    "\n",
    "    # Use readable datetime format\n",
    "    timestamp = datetime.now().strftime(\"%Y-%m-%d %H:%M:%S\")\n",
    "\n",
    "    entry = {\n",
    "        \"timestamp\": timestamp,\n",
    "        \"question\": question,\n",
    "        \"solution\": solution,\n",
    "        \"feedback\": feedback,\n",
    "        \"rating\": rating\n",
    "    }\n",
    "\n",
    "    # Load existing data if file exists\n",
    "    if feedback_file.exists():\n",
    "        with open(feedback_file, \"r\") as f:\n",
    "            try:\n",
    "                feedback_data = json.load(f)\n",
    "            except json.JSONDecodeError:\n",
    "                feedback_data = []\n",
    "    else:\n",
    "        feedback_data = []\n",
    "\n",
    "    # Append the new entry\n",
    "    feedback_data.append(entry)\n",
    "\n",
    "    # Save back to the file\n",
    "    with open(feedback_file, \"w\") as f:\n",
    "        json.dump(feedback_data, f, indent=2)\n",
    "\n",
    "    print(f\"📝 Feedback logged at {timestamp}\")\n",
    "\n",
    "def human_in_the_loop(state):\n",
    "    print(\"\\n🔎 MATH Agent: Here's the generated solution:\")\n",
    "    print(\"=\"*50)\n",
    "    print(\"💬 Question: \" + state[\"question\"])\n",
    "    plain_text = latex_to_text(state[\"generation\"])\n",
    "    print(\"📝 Response:\")\n",
    "    display(Markdown(plain_text))\n",
    "    print(\"=\"*50)\n",
    "    \n",
    "    rating = input(\"\\n⭐ Rate this solution (1-5): \").strip()\n",
    "    try:\n",
    "        rating = int(rating)\n",
    "        if not (1 <= rating <= 5):\n",
    "            rating = 0\n",
    "    except ValueError:\n",
    "        rating = 0\n",
    "    \n",
    "    approval = input(\"\\n❓ Do you approve this answer? (yes / no): \").strip().lower()\n",
    "    if approval == \"yes\":\n",
    "        save_feedback(state[\"question\"], state[\"generation\"], \"\", rating=rating)\n",
    "        return {**state, \"human_feedback\": \"\", \"previous_solution\": state[\"raw_solution\"]}\n",
    "    \n",
    "    feedback = input(\"✏️ Please enter your correction or feedback: \").strip()\n",
    "    \n",
    "    # Save feedback for future improvements\n",
    "    save_feedback(state[\"question\"], state[\"generation\"], feedback, rating=rating)\n",
    "    \n",
    "    # Store feedback and send back to generate phase\n",
    "    return {**state, \"human_feedback\": feedback, \"previous_solution\": state[\"raw_solution\"], \"raw_solution\": \"\", \"generation\": \"\"}"
   ]
  },
  {
   "cell_type": "markdown",
   "id": "d3e493f7",
   "metadata": {},
   "source": [
    "# stop() to end the workflow"
   ]
  },
  {
   "cell_type": "code",
   "execution_count": 16,
   "id": "28c2d21e",
   "metadata": {},
   "outputs": [],
   "source": [
    "# 15. stop() to end the workflow\n",
    "# This function is called when the workflow need to end at intermediate state.\n",
    "\n",
    "def stop(state):\n",
    "    print(\"=========================================================\")\n",
    "    print(state[\"generation\"])\n",
    "    return state"
   ]
  },
  {
   "cell_type": "markdown",
   "id": "5c2d3c1a",
   "metadata": {},
   "source": [
    "# State Graph"
   ]
  },
  {
   "cell_type": "code",
   "execution_count": 17,
   "id": "5f1331b4",
   "metadata": {},
   "outputs": [
    {
     "data": {
      "image/png": "[encoded data removed]",
      "text/plain": [
       "<IPython.core.display.Image object>"
      ]
     },
     "metadata": {},
     "output_type": "display_data"
    }
   ],
   "source": [
    "# 16. State Graph\n",
    "\n",
    "agent = StateGraph(GraphState)\n",
    "\n",
    "agent.add_node(\"input_guardrails\", input_guardrails)\n",
    "agent.add_node(\"retrieve\", retrieve)\n",
    "agent.add_node(\"grade\", document_grader)\n",
    "agent.add_node(\"web_search\", web_search)\n",
    "agent.add_node(\"assess_web_results\", assess_web_results)\n",
    "agent.add_node(\"generate\", generate)\n",
    "agent.add_node(\"output_guardrails\", output_guardrails)\n",
    "agent.add_node(\"human_review\", human_in_the_loop)\n",
    "agent.add_node(\"stop\", stop)\n",
    "agent.add_edge(\"stop\", END)\n",
    "\n",
    "agent.set_entry_point(\"input_guardrails\")\n",
    "\n",
    "agent.add_conditional_edges(\n",
    "    \"input_guardrails\",\n",
    "    lambda state: \"end\" if state.get(\"should_end\", False) else \"continue\",\n",
    "    {\n",
    "        \"end\": \"stop\",\n",
    "        \"continue\": \"retrieve\"\n",
    "    }\n",
    ")\n",
    "\n",
    "agent.add_edge(\"retrieve\", \"grade\")\n",
    "agent.add_conditional_edges(\n",
    "    \"grade\", \n",
    "    lambda state: \"No\" if state[\"web_search_needed\"] else \"Yes\",\n",
    "    {\n",
    "        \"Yes\": \"generate\",     # Use retrieved docs\n",
    "        \"No\": \"web_search\"     # Perform web search if no relevant doc\n",
    "    }\n",
    ")\n",
    "agent.add_edge(\"web_search\", \"assess_web_results\")\n",
    "agent.add_conditional_edges(\n",
    "    \"assess_web_results\",\n",
    "    lambda state: \"end\" if state.get(\"should_end\", False) else \"continue\",\n",
    "    {\n",
    "        \"end\": \"stop\",\n",
    "        \"continue\": \"generate\" \n",
    "    }\n",
    ")\n",
    "\n",
    "agent.add_edge(\"generate\", \"output_guardrails\")\n",
    "agent.add_edge(\"output_guardrails\", \"human_review\")\n",
    "\n",
    "# Add conditional edge from human_review back to generate if feedback provided\n",
    "agent.add_conditional_edges(\n",
    "    \"human_review\",\n",
    "    lambda state: \"regenerate\" if state[\"human_feedback\"] else \"complete\",\n",
    "    {\n",
    "        \"regenerate\": \"generate\",\n",
    "        \"complete\": END\n",
    "    }\n",
    ")\n",
    "\n",
    "workflow = agent.compile()\n",
    "\n",
    "# Visualize the graph\n",
    "display(Image(workflow.get_graph().draw_mermaid_png()))"
   ]
  },
  {
   "cell_type": "markdown",
   "id": "253ad6bc",
   "metadata": {},
   "source": [
    "# Ask() Function to invoke the workflow"
   ]
  },
  {
   "cell_type": "code",
   "execution_count": 18,
   "id": "861b1dbe",
   "metadata": {},
   "outputs": [],
   "source": [
    "# 17. Ask Function to invoke the workflow\n",
    "\n",
    "def ask(question: str):\n",
    "    # Initialize the workflow with an empty state\n",
    "    initial_state = {\n",
    "        \"question\": question,\n",
    "        \"generation\": \"\",\n",
    "        \"documents\": [],\n",
    "        \"web_search_needed\": \"\",\n",
    "        \"web_results\": \"\",\n",
    "        \"web_search_sufficient\": \"\",\n",
    "        \"human_feedback\": \"\",\n",
    "        \"should_end\": False\n",
    "    }\n",
    "    \n",
    "    # First pass through the workflow\n",
    "    result = workflow.invoke(initial_state)\n",
    "\n",
    "    # If there was feedback and generation is empty, it means we need to regenerate\n",
    "    if result[\"human_feedback\"] and not result[\"generation\"]:\n",
    "        # Run the workflow again, now with feedback\n",
    "        result = workflow.invoke(result)\n",
    "    \n",
    "    return result[\"generation\"]"
   ]
  },
  {
   "cell_type": "markdown",
   "id": "000a97f8",
   "metadata": {},
   "source": [
    "# Test the Workflow"
   ]
  },
  {
   "cell_type": "code",
   "execution_count": null,
   "id": "d0a647c1",
   "metadata": {},
   "outputs": [
    {
     "name": "stdout",
     "output_type": "stream",
     "text": [
      "🧠 Running Input Guardrails: Checking if the question is math-related...\n",
      "📥 Retrieving from Knowledge Base...\n"
     ]
    },
    {
     "name": "stderr",
     "output_type": "stream",
     "text": [
      "No relevant docs were retrieved using the relevance score threshold 0.8\n"
     ]
    },
    {
     "name": "stdout",
     "output_type": "stream",
     "text": [
      "🌐 No sufficient documents. Performing Web Search...\n",
      "🔍 Web Results Assessment: Yes\n",
      "\n",
      "🔎 MATH Agent: Here's the generated solution:\n",
      "==================================================\n",
      "💬 Question: In a circle of radius 5, what is the length of a chord that is 3 units from the center?\n",
      "📝 Response:\n"
     ]
    },
    {
     "data": {
      "text/markdown": [
       "Okay, I understand the question. It's asking for the length of a chord in a circle with a given radius and distance from the center.\n",
       "\n",
       "**1. Visualize the Problem**\n",
       "\n",
       "Imagine a circle with radius *r* = 5. A chord is a line segment that connects two points on the circle. The distance from the center of the circle to the chord is *d* = 3. This distance is the perpendicular distance from the center to the chord, and it bisects the chord.\n",
       "\n",
       "**2. Key Formula: Pythagorean Theorem**\n",
       "\n",
       "The radius, half the chord length, and the distance from the center form a right triangle. Let *L* be the length of the chord. Then *L*/2 is half the length of the chord. By the Pythagorean theorem:\n",
       "\n",
       "*r*<sup>2</sup> = *d*<sup>2</sup> + (*L*/2)<sup>2</sup>\n",
       "\n",
       "**3. Solve for L (the chord length)**\n",
       "\n",
       "* Substitute the given values: 5<sup>2</sup> = 3<sup>2</sup> + (*L*/2)<sup>2</sup>\n",
       "* Simplify: 25 = 9 + (*L*/2)<sup>2</sup>\n",
       "* Subtract 9 from both sides: 16 = (*L*/2)<sup>2</sup>\n",
       "* Take the square root of both sides: 4 = *L*/2\n",
       "* Multiply both sides by 2: *L* = 8\n",
       "\n",
       "**4. Final Answer**\n",
       "\n",
       "The length of the chord is 8.\n",
       "\n",
       "8"
      ],
      "text/plain": [
       "<IPython.core.display.Markdown object>"
      ]
     },
     "metadata": {},
     "output_type": "display_data"
    },
    {
     "name": "stdout",
     "output_type": "stream",
     "text": [
      "==================================================\n",
      "📝 Feedback logged at 2025-05-30 18:57:22\n",
      "\n",
      "🔎 MATH Agent: Here's the generated solution:\n",
      "==================================================\n",
      "💬 Question: In a circle of radius 5, what is the length of a chord that is 3 units from the center?\n",
      "📝 Response:\n"
     ]
    },
    {
     "data": {
      "text/markdown": [
       "Okay, I understand the question. I need to find the length of a chord in a circle with a radius of 5 units, where the chord is 3 units away from the center of the circle. I will use the Pythagorean theorem to solve this problem.\n",
       "\n",
       "**1. Visualize the Problem**\n",
       "\n",
       "Imagine a circle with center O. Draw a chord RS. Draw a perpendicular line from the center O to the chord RS, and let the point where it intersects the chord be M. We are given that the radius of the circle (OR) is 5 units, and the distance from the center to the chord (OM) is 3 units.\n",
       "\n",
       "**2. Key Formula: Pythagorean Theorem**\n",
       "\n",
       "In a right-angled triangle, the square of the hypotenuse (the side opposite the right angle) is equal to the sum of the squares of the other two sides.  That is,  a^2 + b^2 = c^2, where c is the hypotenuse.\n",
       "\n",
       "**3. Apply the Pythagorean Theorem**\n",
       "\n",
       "In our diagram, triangle OMR is a right-angled triangle, with OR as the hypotenuse. Therefore:\n",
       "\n",
       "OM^2 + MR^2 = OR^2\n",
       "\n",
       "We know OM = 3 and OR = 5.  Substituting these values:\n",
       "\n",
       "3^2 + MR^2 = 5^2\n",
       "\n",
       "9 + MR^2 = 25\n",
       "\n",
       "MR^2 = 25 - 9\n",
       "\n",
       "MR^2 = 16\n",
       "\n",
       "MR = √16\n",
       "\n",
       "MR = 4\n",
       "\n",
       "**4. Chord Length**\n",
       "\n",
       "Since the perpendicular from the center of the circle to the chord bisects the chord, MR is half the length of the chord RS. Therefore:\n",
       "\n",
       "RS = 2 * MR\n",
       "\n",
       "RS = 2 * 4\n",
       "\n",
       "RS = 8\n",
       "\n",
       "**5. Final Answer**\n",
       "\n",
       "The length of the chord is 8 units.\n",
       "\n",
       "8"
      ],
      "text/plain": [
       "<IPython.core.display.Markdown object>"
      ]
     },
     "metadata": {},
     "output_type": "display_data"
    },
    {
     "name": "stdout",
     "output_type": "stream",
     "text": [
      "==================================================\n",
      "📝 Feedback logged at 2025-05-30 18:57:51\n"
     ]
    }
   ],
   "source": [
    "# 18. Test the Workflow\n",
    "\n",
    "# Example question to test the system\n",
    "question = \"In a circle of radius 5, what is the length of a chord that is 3 units from the center?\"\n",
    "# question = \"what is model context protocol?\"\n",
    "#question = \"What is the area of a trapezoid with bases 5 and 7, and height 4?\"\n",
    "#question = \"Find the inverse function of f(x) = 2x-3/x+4.\"\n",
    "#question = \"How many integers between 1000 and 9999 have all distinct digits and are divisible by 7?\"\n",
    "response = ask(question)"
   ]
  }
 ],
 "metadata": {
  "kernelspec": {
   "display_name": "venv",
   "language": "python",
   "name": "python3"
  },
  "language_info": {
   "codemirror_mode": {
    "name": "ipython",
    "version": 3
   },
   "file_extension": ".py",
   "mimetype": "text/x-python",
   "name": "python",
   "nbconvert_exporter": "python",
   "pygments_lexer": "ipython3",
   "version": "3.12.9"
  }
 },
 "nbformat": 4,
 "nbformat_minor": 5
}
